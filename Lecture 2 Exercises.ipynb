{
 "cells": [
  {
   "cell_type": "markdown",
   "metadata": {},
   "source": [
    "# Cosmological Parameter Estimation\n",
    "\n",
    "These exercises may be a little longer than last week's, so you may have to finish them later."
   ]
  },
  {
   "cell_type": "markdown",
   "metadata": {},
   "source": [
    "***\n",
    "# Preamble"
   ]
  },
  {
   "cell_type": "markdown",
   "metadata": {},
   "source": [
    "We will first do some setup that lets us make plots inline in the notebook.\n",
    "You can run each cell by pressing Shift-Enter."
   ]
  },
  {
   "cell_type": "code",
   "execution_count": null,
   "metadata": {},
   "outputs": [],
   "source": [
    "%matplotlib inline"
   ]
  },
  {
   "cell_type": "code",
   "execution_count": null,
   "metadata": {},
   "outputs": [],
   "source": [
    "import numpy as np\n",
    "import matplotlib.pyplot as plt"
   ]
  },
  {
   "cell_type": "markdown",
   "metadata": {},
   "source": [
    "***\n",
    "# From yesterday: The Model Function"
   ]
  },
  {
   "cell_type": "code",
   "execution_count": null,
   "metadata": {},
   "outputs": [],
   "source": [
    "from astropy.cosmology import LambdaCDM"
   ]
  },
  {
   "cell_type": "markdown",
   "metadata": {},
   "source": [
    "Copy in your astropy `model` function for the  from the last lecture here.  If you didn't get a working function, have a look at the answer notebook for the last lecture."
   ]
  },
  {
   "cell_type": "code",
   "execution_count": null,
   "metadata": {},
   "outputs": [],
   "source": [
    "# Copy your function here"
   ]
  },
  {
   "cell_type": "markdown",
   "metadata": {},
   "source": [
    "***\n",
    "\n",
    "# Exercise 3: Loading and exploring supernova data\n",
    "\n",
    "The *Pantheon* supernova analysis project measured the apparent magnitude of a large sample of supernovae, standardising them to control any differences between them and very carefully calibrating them.  They grouped them into 40 bins of data, which we have extracted and supplied with this notebook.\n",
    "\n",
    "In this exercise we will load the Pantheon data and explore it.\n",
    "\n",
    "In later exercises we will use Pantheon to constrain cosmological parameters."
   ]
  },
  {
   "cell_type": "markdown",
   "metadata": {},
   "source": [
    "Load in the Pantheon data from the file `data.txt`.  The two columns in it are *redshift* `z_obs` and *apparent magnitude* `m_obs`.\n",
    "\n",
    "HINT: Use the function `np.loadtxt` to do this quickly, but then you'll need to pull out the two columns separately."
   ]
  },
  {
   "cell_type": "code",
   "execution_count": null,
   "metadata": {},
   "outputs": [],
   "source": [
    "# write your code here\n"
   ]
  },
  {
   "cell_type": "markdown",
   "metadata": {},
   "source": [
    "Make a plot of the data points in the file, showing $m$ as a function of $z$"
   ]
  },
  {
   "cell_type": "code",
   "execution_count": null,
   "metadata": {},
   "outputs": [],
   "source": [
    "#write your code here\n"
   ]
  },
  {
   "cell_type": "markdown",
   "metadata": {},
   "source": [
    "Now use the function you wrote in the last exercise to make a theory prediction for $m$ for the same parameters we have used before:\n",
    "```\n",
    "    H0 = 72.0\n",
    "    Omega_matter = 0.3\n",
    "    Omega_lambda = 0.7\n",
    "    M0 = -19.3\n",
    "```\n",
    "Add it to your plot.\n",
    "How good is the fit?"
   ]
  },
  {
   "cell_type": "code",
   "execution_count": null,
   "metadata": {},
   "outputs": [],
   "source": [
    "# Write your code here\n"
   ]
  },
  {
   "cell_type": "markdown",
   "metadata": {},
   "source": [
    "Load the covariance matrix `C` of the Pantheon data points from the file `cov.txt`.  Check its shape is 40 x 40."
   ]
  },
  {
   "cell_type": "code",
   "execution_count": null,
   "metadata": {},
   "outputs": [],
   "source": [
    "# Write your code here.\n"
   ]
  },
  {
   "cell_type": "markdown",
   "metadata": {},
   "source": [
    "Use the covariance matrix to work out the standard deviation of each data point as an array.\n",
    "\n",
    "The covariance $C_{ij}$ between two data points $i$ and $j$ is the expectation $E\\left[(x_i - \\bar{x_i}) \\cdot (x_j - \\bar{x_j})\\right]$.  The variance of a single data point $i$ is $E\\left[(x_i - \\bar{x_i})^2\\right]$, so think about where the variance is in the covariance matrix.\n",
    "\n",
    "HINT: `np.diagonal` and `np.sqrt` may be of use."
   ]
  },
  {
   "cell_type": "code",
   "execution_count": null,
   "metadata": {},
   "outputs": [],
   "source": [
    "# Write your code here.\n"
   ]
  },
  {
   "cell_type": "markdown",
   "metadata": {},
   "source": [
    "Use this to make the same plot as above, but with error bars.\n",
    "\n",
    "HINT: `plt.errorbar`.  The error bars will be tiny!"
   ]
  },
  {
   "cell_type": "code",
   "execution_count": null,
   "metadata": {},
   "outputs": [],
   "source": [
    "# Write your code here.\n"
   ]
  },
  {
   "cell_type": "markdown",
   "metadata": {},
   "source": [
    "Compute the inverse `invC` of the matrix `C`\n",
    "\n",
    "HINT: `np.linalg.inv`"
   ]
  },
  {
   "cell_type": "code",
   "execution_count": null,
   "metadata": {},
   "outputs": [],
   "source": [
    "# Write your code here.\n"
   ]
  },
  {
   "cell_type": "markdown",
   "metadata": {},
   "source": [
    "For this set of parameters, compute the Gaussian log-likelihood:\n",
    "\n",
    "$-\\frac{1}{2} * (m_\\textrm{obs} - m_\\textrm{pred})^T \\cdot C^{-1} \\cdot(m_\\textrm{obs} - m_\\textrm{pred})$\n",
    "\n",
    "Roughly speaking a good Gaussian log-likelihood should be about $-\\frac{1}{2} n_\\mathrm{data}$.  Is this a good fit?\n",
    "\n",
    "Note that we've omitted a constant term at the front, which will have no effect here.\n",
    "\n",
    "\n",
    "HINT: Use the $@$ sign to do the The matrix (and dot) product in numpy"
   ]
  },
  {
   "cell_type": "code",
   "execution_count": null,
   "metadata": {},
   "outputs": [],
   "source": [
    "# write your code here\n"
   ]
  },
  {
   "cell_type": "markdown",
   "metadata": {},
   "source": [
    "Finally, write a function `loglike` that takes a vector of your four parameters, `[H0, Omega_matter, Omega_de, M0]`, and computes their likelihood given the observed data.\n",
    "\n",
    "Astropy will not work if a negative value of Omega_matter or H0 is supplied. Make your function check for this and return -infinity (`-np.inf`) if this happens."
   ]
  },
  {
   "cell_type": "code",
   "execution_count": null,
   "metadata": {},
   "outputs": [],
   "source": [
    "# Complete this code\n",
    "def loglike(x):\n",
    "    ..."
   ]
  },
  {
   "cell_type": "markdown",
   "metadata": {},
   "source": [
    "## Exercise 4: Sampling\n",
    "\n",
    "If we had to explore a fine grid in our likelihood's four parameters it would take days\n",
    "\n",
    "Models for other cosmology data sets might have more than 30 parameters, which would take longer than the lifetime of the Universe to explore like this!\n",
    "\n",
    "We will use the Metropolis-Hastings algorithm that we described in the lectures to explore this parameter space instead, to make it take a manageable time."
   ]
  },
  {
   "cell_type": "markdown",
   "metadata": {},
   "source": [
    "We will first need a proposal function, which should returns a random jump from a current position in parameter space to one that is nearby.\n",
    "\n",
    "Write a proposal that adds a small Gaussian-distributed jump from the current point `p` in each direction, and returns the new point.  Since the parameters are all different they need different sized jumps - you should make the typical size be these values for the different parameters:\n",
    "\n",
    "```\n",
    " H0: 0.5\n",
    " omega_matter: 0.01\n",
    " omega_lambda: 0.01\n",
    " M0: 0.025\n",
    "```\n",
    "\n",
    "HINT: `np.random.normal(n)` generates `n` Gaussian-distributed random numbers with standard deviation 1."
   ]
  },
  {
   "cell_type": "code",
   "execution_count": null,
   "metadata": {},
   "outputs": [],
   "source": [
    "# Complete this code\n",
    "def propose(p):\n",
    "    ..."
   ]
  },
  {
   "cell_type": "markdown",
   "metadata": {},
   "source": [
    "Now we will write a Metropolis-Hastings MCMC sampling process.\n",
    "\n",
    "Write a code to perform the MH loop that we described in lectures, with these features:\n",
    "- record the value of the new parameter set each time through the loop.\n",
    "- record the likelihood each iteration.\n",
    "- do 100,000 iterations of the loop\n",
    "- start from the point `[72., 0.3, 0.7, -19.3]`\n",
    "- count the number of time the proposal is accepted.  If everything is working, about 16% of the jumps should be accepted in this case.\n",
    "\n",
    "This will take a few minutes - you might want to print something out every 5000 samples to give you an idea of progress.\n",
    "\n",
    "HINT: It's easiest to pre-allocate the arrays of parameter values and likelihoods. It's also easier always to work in log-likelihoods.  This will take a few minutes to run."
   ]
  },
  {
   "cell_type": "code",
   "execution_count": null,
   "metadata": {},
   "outputs": [],
   "source": [
    "# Complete this code - fill in the \"...\" throughout\n",
    "\n",
    "# First make an array describing the starting point of the iteration\n",
    "p = np.array([...])\n",
    "# and find its log-like\n",
    "Lp = \n",
    "\n",
    "# And make space to store the results.\n",
    "# Start with N=1000 to test things, but once it's all working switch to N = 100,000\n",
    "N = 100\n",
    "chain = np.zeros((N, 4))\n",
    "likes = np.zeros(N)\n",
    "\n",
    "# Main MCMC loop\n",
    "for i in range(N):\n",
    "    # new possible point and its likelihood\n",
    "    q = ...\n",
    "    Lq = ...\n",
    "    # Fill in the Metropolis acceptance criterion, in terms \n",
    "    if ... :\n",
    "        # Update the point p and likelihood Lp\n",
    "        ...\n",
    "    # store next point, whether it's the same or not\n",
    "    chain[i] = ...\n",
    "    likes[i] = ...\n",
    "# Print acceptance fraction\n",
    "print(acc/N)\n",
    "    "
   ]
  },
  {
   "cell_type": "markdown",
   "metadata": {},
   "source": [
    "Plot the value of each parameter throughout the chain.  Comment on the performance of the proposal.\n",
    "\n",
    "Why are some parameters better explored than others?  How could you improve the performance?\n"
   ]
  },
  {
   "cell_type": "code",
   "execution_count": null,
   "metadata": {},
   "outputs": [],
   "source": [
    "# write your code here\n"
   ]
  },
  {
   "cell_type": "markdown",
   "metadata": {},
   "source": [
    "Make a point plot of H0 versus M0 across the chain.\n",
    "\n",
    "Compare this to your grid plot earlier.\n",
    "\n",
    "HINT: Use a comma `','` as the marker type to make it easier to see."
   ]
  },
  {
   "cell_type": "code",
   "execution_count": null,
   "metadata": {},
   "outputs": [],
   "source": [
    "# write your code here\n"
   ]
  },
  {
   "cell_type": "markdown",
   "metadata": {},
   "source": [
    "Make a scatter plot of omega_matter versus omega_lambda for the full chain.\n",
    "\n",
    "Use the likelihood value as the color of each point, and size=1 for each.\n",
    "\n",
    "HINT: Use `plt.scatter`\n"
   ]
  },
  {
   "cell_type": "code",
   "execution_count": null,
   "metadata": {},
   "outputs": [],
   "source": [
    "# write your code here\n"
   ]
  },
  {
   "cell_type": "markdown",
   "metadata": {},
   "source": [
    "Make a histogram of each parameter across the chain..\n",
    "\n",
    "Use the log-likelihood value as the color of each point, and size `s=1` for each.\n",
    "\n",
    "HINT: Use `plt.hist`"
   ]
  },
  {
   "cell_type": "code",
   "execution_count": null,
   "metadata": {},
   "outputs": [],
   "source": [
    "# write your code here\n"
   ]
  },
  {
   "cell_type": "markdown",
   "metadata": {},
   "source": [
    "Compute the mean and standard deviation of Omega_matter and Omega_lambda, across the chain.\n",
    "This estimate is what this data set tells us about these parameters."
   ]
  },
  {
   "cell_type": "code",
   "execution_count": null,
   "metadata": {},
   "outputs": [],
   "source": [
    "# write your code here\n"
   ]
  },
  {
   "cell_type": "markdown",
   "metadata": {},
   "source": [
    "You can also work out derived parameters from the chain.\n",
    "\n",
    "Plot a histogram of $\\Omega_k = 1 - \\Omega_m - \\Omega_\\lambda$, and compute its mean and standard deviation.\n",
    "\n",
    "HINT: Use `plt.hist`, `np.mean`, and `np.std`."
   ]
  },
  {
   "cell_type": "code",
   "execution_count": null,
   "metadata": {},
   "outputs": [],
   "source": [
    "# Write your code here\n"
   ]
  },
  {
   "cell_type": "markdown",
   "metadata": {},
   "source": [
    "# Further exercises\n",
    "\n",
    "- Improve your Metropolis-Hastings sampler by:\n",
    "    - taking the posterior covariance of the transpose of your existing chain\n",
    "    - finding the Cholesky decomposition `chol` (matrix square-root) of the posterior covariance\n",
    "    - making a new proposal `chol @ r` where `r` is a vector of random Gaussian numbers with variance 1\n",
    "\n",
    "- Use the emcee sampler to sample your space\n",
    "\n",
    "Tomorrow we will use other sampling methods that can be easier to use than MH."
   ]
  }
 ],
 "metadata": {
  "kernelspec": {
   "display_name": "Python 3",
   "language": "python",
   "name": "python3"
  },
  "language_info": {
   "codemirror_mode": {
    "name": "ipython",
    "version": 3
   },
   "file_extension": ".py",
   "mimetype": "text/x-python",
   "name": "python",
   "nbconvert_exporter": "python",
   "pygments_lexer": "ipython3",
   "version": "3.7.7"
  }
 },
 "nbformat": 4,
 "nbformat_minor": 2
}
