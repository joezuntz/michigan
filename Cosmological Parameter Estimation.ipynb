{
  "cells": [
    {
      "metadata": {},
      "cell_type": "markdown",
      "source": "# Cosmological Parameter Estimation"
    },
    {
      "metadata": {},
      "cell_type": "markdown",
      "source": "***\n# Preamble"
    },
    {
      "metadata": {},
      "cell_type": "markdown",
      "source": "We will first do some setup that lets us make plots inline in the notebook.\nYou can run each cell by pressing Ctrl-Enter.\n\nMost cells in this notebook can be run multiple times if you want to change them, for example.\nThis first one is the exception - it will give an error if you run it twice!\n"
    },
    {
      "metadata": {
        "trusted": true
      },
      "cell_type": "code",
      "source": "matplotlib inline",
      "execution_count": null,
      "outputs": []
    },
    {
      "metadata": {
        "trusted": true
      },
      "cell_type": "code",
      "source": "import numpy as np\nimport matplotlib.pyplot as plt",
      "execution_count": null,
      "outputs": []
    },
    {
      "metadata": {},
      "cell_type": "markdown",
      "source": "***\n# Exercise 1: Cosmological predictions with Astropy"
    },
    {
      "metadata": {},
      "cell_type": "markdown",
      "source": "There are many public cosmology libraries that have been released to help calculate theory predictions or explore data.\n\nOne of these is Astropy, a python library for astronomy research.  It contains tools for many common astronomy tasks, including basic (background) cosmology.  It also contains a library for converting and using units, which we will use here too.\n\nIn this first exercise we will explore how to create a cosmological model using Astropy, and use it to predict some observable values."
    },
    {
      "metadata": {
        "trusted": true
      },
      "cell_type": "code",
      "source": "from astropy.cosmology import LambdaCDM\nfrom astropy.units import mag",
      "execution_count": null,
      "outputs": []
    },
    {
      "metadata": {},
      "cell_type": "markdown",
      "source": "When you execute the cell below some documentation will pop up at the bottom.\nRead it and learn how to create a new Lambda CDM cosmology model with specified parameters.\n\nHINT: Some parameters are optional."
    },
    {
      "metadata": {
        "trusted": true
      },
      "cell_type": "code",
      "source": "LambdaCDM?",
      "execution_count": null,
      "outputs": []
    },
    {
      "metadata": {},
      "cell_type": "markdown",
      "source": "Now, create a test model called `cosmo` with Hubble parameter 72.0, matter density 0.3, dark energy density 0.7"
    },
    {
      "metadata": {
        "trusted": true
      },
      "cell_type": "code",
      "source": "# Write your code here\n",
      "execution_count": null,
      "outputs": []
    },
    {
      "metadata": {},
      "cell_type": "markdown",
      "source": "Your `cosmo` object has functions attached to it (\"methods\") that calculate different cosmological quantities.\nRun the cell below and scroll down in the cell to find a listing of them.\n\nFind the method `distmod` and read about its meaning."
    },
    {
      "metadata": {
        "trusted": true
      },
      "cell_type": "code",
      "source": "help(cosmo)",
      "execution_count": null,
      "outputs": []
    },
    {
      "metadata": {},
      "cell_type": "markdown",
      "source": "First, use `cosmo.distmod` to work out the distance modulus at the single redshift value $z=1$."
    },
    {
      "metadata": {
        "trusted": true
      },
      "cell_type": "code",
      "source": "# Write your code here\n",
      "execution_count": null,
      "outputs": []
    },
    {
      "metadata": {},
      "cell_type": "markdown",
      "source": "Now, create a numpy array of redshifts `z` = 0.1, 0.2, 0.3, ... 1.6 using numpy, and compute the distance modulus to it.\nMake a plot of distance modulus versus redshift in this model."
    },
    {
      "metadata": {
        "trusted": true
      },
      "cell_type": "code",
      "source": "# Write your code here\n",
      "execution_count": null,
      "outputs": []
    },
    {
      "metadata": {},
      "cell_type": "markdown",
      "source": "Now let's assume that the absolute magnitude of our supernovae is `M0 = -19.3` magnitudes\n\nUse the `distmod` method to calculate the apparent magnitude $m$ of these supernovae, as a function of redshift.\n\nMake a plot of $m$ vs $z$.\n\nHINT: Re-read the help on `distmod` for the relation between apparent and absolute magnitude.  Distmod returns values with units; to remove the units from a quantity `x` you can write `x = x.value`."
    },
    {
      "metadata": {
        "trusted": true
      },
      "cell_type": "code",
      "source": "# write your code here\n",
      "execution_count": null,
      "outputs": []
    },
    {
      "metadata": {},
      "cell_type": "markdown",
      "source": "As the final step in this exercise, write a `model` function to predict the apparent magnitude for any set of parameters, for any set of redshifts."
    },
    {
      "metadata": {
        "trusted": true
      },
      "cell_type": "code",
      "source": "# Complete this function\ndef model(H0, Omega_matter, Omega_lambda, M0, z):\n    ...",
      "execution_count": null,
      "outputs": []
    },
    {
      "metadata": {},
      "cell_type": "markdown",
      "source": "***\n# Exercise 2: Loading and exploring supernova data\n\nThe *Pantheon* supernova analysis project measured the apparent magnitude of a large sample of supernovae, standardising them to control any differences between them and very carefully calibrating them.  They grouped them into 40 bins of data, which we have extracted and supplied with this notebook.\n\nIn this exercise we will load the Pantheon data and explore it.\n\nIn later exercises we will use Pantheon to constrain cosmological parameters."
    },
    {
      "metadata": {},
      "cell_type": "markdown",
      "source": "Load in the Pantheon data from the file `data.txt`.  The two columns in it are *redshift* `z_obs` and *apparent magnitude* `m_obs`.\n\nHINT: Use the function `np.loadtxt` to do this quickly, but then you'll need to pull out the two columns separately."
    },
    {
      "metadata": {
        "trusted": true
      },
      "cell_type": "code",
      "source": "# write your code here\n",
      "execution_count": null,
      "outputs": []
    },
    {
      "metadata": {},
      "cell_type": "markdown",
      "source": "Make a plot of the data points in the file, showing $m$ as a function of $z$"
    },
    {
      "metadata": {
        "trusted": true
      },
      "cell_type": "code",
      "source": "#write your code here\n",
      "execution_count": null,
      "outputs": []
    },
    {
      "metadata": {},
      "cell_type": "markdown",
      "source": "Now use the function you wrote in the last exercise to make a theory prediction for $m$ for the same parameters we have used before:\n```\n    H0 = 72.0\n    Omega_matter = 0.3\n    Omega_lambda = 0.7\n    M0 = -19.3\n```\nAdd it to your plot.\nHow good is the fit?"
    },
    {
      "metadata": {
        "trusted": true
      },
      "cell_type": "code",
      "source": "# write your code here\n",
      "execution_count": null,
      "outputs": []
    },
    {
      "metadata": {},
      "cell_type": "markdown",
      "source": "Load the covariance matrix `C` of the Pantheon data points from the file `cov.txt`.  Check its shape is 40 x 40."
    },
    {
      "metadata": {
        "trusted": true
      },
      "cell_type": "code",
      "source": "# write your code here.\n",
      "execution_count": null,
      "outputs": []
    },
    {
      "metadata": {},
      "cell_type": "markdown",
      "source": "Display the covariance matrix as an image, and describe what you see.\n\nHINT: `plt.imshow`.\nIt's easiest to see detail if you plot the log of the absolute value of the matrix."
    },
    {
      "metadata": {
        "trusted": true
      },
      "cell_type": "code",
      "source": "# write your code here.\n",
      "execution_count": null,
      "outputs": []
    },
    {
      "metadata": {},
      "cell_type": "markdown",
      "source": "Use the covariance matrix to work out the standard deviation of each data point as an array.\n\nHINT: The covariance $C_{ij}$ between two data points $i$ and $j$ is the expectation $E\\left[(x_i - \\bar{x_i}) \\cdot (x_j - \\bar{x_j})\\right]$.  The variance of a single data point $i$ is $E\\left[(x_i - \\bar{x_i})^2\\right]$, so think about where the variance is in the covariance matrix. Don't forget the relationship between variance and standard deviation! There are numpy functions that will help with both of these."
    },
    {
      "metadata": {
        "trusted": true
      },
      "cell_type": "code",
      "source": "# write your code here.\n",
      "execution_count": null,
      "outputs": []
    },
    {
      "metadata": {},
      "cell_type": "markdown",
      "source": "Make a plot like the first one of $m$ vs $z$, but this time include error bars.\n\nHINT: `plt.errorbar`.  The error bars are very small, so will be hard to see! You could expand them by a factor of 10."
    },
    {
      "metadata": {
        "trusted": true
      },
      "cell_type": "code",
      "source": "# write your code here.\n",
      "execution_count": null,
      "outputs": []
    },
    {
      "metadata": {},
      "cell_type": "markdown",
      "source": "Compute the inverse `invC` of the matrix `C` and display it in the same way as you did the covariance.\n\nHINT: `np.linalg.inv`"
    },
    {
      "metadata": {
        "trusted": true
      },
      "cell_type": "code",
      "source": "# write your code here.\n",
      "execution_count": null,
      "outputs": []
    },
    {
      "metadata": {},
      "cell_type": "markdown",
      "source": "For this set of parameters, compute the log-likelihood:\n\n$-\\frac{1}{2} * (m_\\textrm{obs} - m_\\textrm{pred})^T \\cdot C^{-1} \\cdot(m_\\textrm{obs} - m_\\textrm{pred})$\n\nRoughly speaking a good log-likelihood should be about $-\\frac{1}{2} n_\\mathrm{data}$.  Is this a good fit?\n\n\nHINT: Use the $@$ sign to do the The matrix (and dot) product in numpy"
    },
    {
      "metadata": {
        "trusted": true
      },
      "cell_type": "code",
      "source": "# write your code here\n",
      "execution_count": null,
      "outputs": []
    },
    {
      "metadata": {},
      "cell_type": "markdown",
      "source": "Finally, write a function `loglike` that takes a vector of your four parameters, `[H0, Omega_matter, Omega_de, M0]`, and computes their likelihood given the observed data.\n\nAstropy will not work if a negative value of Omega_matter or H0 is supplied. Make your function check for this and return -infinity if this happens."
    },
    {
      "metadata": {
        "trusted": true
      },
      "cell_type": "code",
      "source": "# complete this function\ndef loglike(p):\n    ...\n",
      "execution_count": null,
      "outputs": []
    },
    {
      "metadata": {},
      "cell_type": "markdown",
      "source": "***\n# Exercise 3 Exploring the likelihood"
    },
    {
      "metadata": {},
      "cell_type": "markdown",
      "source": "We will now explore the likelihood while fixing two of the parameters, `Omega_matter=0.3` and `Omega_lambda=0.7`, and just varying `H0` and `M0`.\n\nCompute your log-likelihood on a grid of 100 values each of `H0 = 65 .. 80` and `M0 = -19.3 .. 19.1`.\n\nThis may take up to a minute - use a timer (e.g. on your phone) to measure how long it takes.\n\nHINT: You can use `np.linspace` to generate the set of values for each parameters.  You will need to make two loops, one through each pair of values."
    },
    {
      "metadata": {
        "scrolled": false,
        "trusted": true
      },
      "cell_type": "code",
      "source": "# write your code here\nN = 100\n",
      "execution_count": null,
      "outputs": []
    },
    {
      "metadata": {},
      "cell_type": "markdown",
      "source": "Display an image of the likelihood (not the log-likelihood).\n\nDescribe what you see, and its mathematical and physical meaning.\n\nHINT: You can use the `extent` argument to `plt.imshow` to get the axes right, and the option `aspect='auto'`"
    },
    {
      "metadata": {
        "trusted": true
      },
      "cell_type": "code",
      "source": "# write your code here\n",
      "execution_count": null,
      "outputs": []
    },
    {
      "metadata": {},
      "cell_type": "markdown",
      "source": "Imagine you had to explore the other two parameters, `Omega_matter` and `Omega_lambda`, at the same time as these two parameters, using the same method.\n\nEstimate how long in days this would take to calculate.\n"
    },
    {
      "metadata": {
        "trusted": true
      },
      "cell_type": "code",
      "source": "# write your code here\n",
      "execution_count": null,
      "outputs": []
    },
    {
      "metadata": {},
      "cell_type": "markdown",
      "source": "# Exercise 4: Sampling\n\nIn the last exercise you used a brute-force grid search to explore a 2D parameter space of a model for the Pantheon supernovae.\n\nYou should have found that it would take several days to extend this to a 4D grid, which in unreasonably long, though feasible.  Models for other cosmology data sets might have more than 30 parameters, which would take longer than the lifetime of the Universe to explore like this.\n\nWe will use the Metropolis-Hastings algorithm that we described in the lectures to explore this parameter space instead, to make it take a manageable time."
    },
    {
      "metadata": {},
      "cell_type": "markdown",
      "source": "We will first need a proposal function, which should returns a random jump from a current position in parameter space to one that is nearby.\n\nWrite a proposal that adds a small Gaussian-distributed jump from the current point `p` in each direction.  Since the parameters are all different they need different sized jumps - you should make the typical size be these values for the different parameters:\n\n```\n H0: 0.5\n omega_matter: 0.01\n omega_lambda: 0.01\n M0: 0.025\n```\n\nHINT: `np.random.normal(n)` generates `n` Gaussian-distributed random numbers with standard deviation 1."
    },
    {
      "metadata": {
        "trusted": true
      },
      "cell_type": "code",
      "source": "# complete this function\ndef propose(p):\n    ...",
      "execution_count": null,
      "outputs": []
    },
    {
      "metadata": {},
      "cell_type": "markdown",
      "source": "Now we will write a Metropolis-Hastings MCMC sampling process.\n\nWrite a code to perform the MH loop that we described in lectures, with these features:\n- record the value of the new parameter set each time through the loop.\n- record the likelihood each iteration.\n- do 100,000 iterations of the loop\n- start from the point `[72., 0.3, 0.7, -19.3]`\n- count the number of time the proposal is accepted.  If everything is working, about 166% of the jumps should be accepted in this case.\n\nThis will take a few minutes - you might want to print something out every 5000 samples to give you an idea of progress.\n\nHINT: It's easiest to pre-allocate the arrays of parameter values and likelihoods. It's also easier always to work in log-likelihoods.  This will take a few minutes to run."
    },
    {
      "metadata": {
        "trusted": true
      },
      "cell_type": "code",
      "source": "# write your code here\n",
      "execution_count": null,
      "outputs": []
    },
    {
      "metadata": {},
      "cell_type": "markdown",
      "source": "Plot the value of each parameter throughout the chain.  Comment on the performance of the proposal.\n\nWhy are some parameters better explored than others?  How could you improve the performance?\n"
    },
    {
      "metadata": {
        "trusted": true
      },
      "cell_type": "code",
      "source": "# write your code here\n",
      "execution_count": null,
      "outputs": []
    },
    {
      "metadata": {},
      "cell_type": "markdown",
      "source": "Make a point plot of H0 versus M0 across the chain.\n\nCompare this to your grid plot earlier.\n\nHINT: Use a comma `','` as the marker type to make it easier to see."
    },
    {
      "metadata": {
        "trusted": true
      },
      "cell_type": "code",
      "source": "# write your code here\n",
      "execution_count": null,
      "outputs": []
    },
    {
      "metadata": {},
      "cell_type": "markdown",
      "source": "Make a scatter plot of omega_matter versus omega_lambda for the full chain.\n\nUse the likelihood value as the color of each point, and size=1 for each.\n\nHINT: Use `plt.scatter`\n"
    },
    {
      "metadata": {
        "trusted": true
      },
      "cell_type": "code",
      "source": "# write your code here\n",
      "execution_count": null,
      "outputs": []
    },
    {
      "metadata": {},
      "cell_type": "markdown",
      "source": "Make a histogram of each parameter across the chain..\n\nUse the log-likelihood value as the color of each point, and size `s=1` for each.\n\nHINT: Use `plt.hist`"
    },
    {
      "metadata": {
        "trusted": true
      },
      "cell_type": "code",
      "source": "# write your code here\n",
      "execution_count": null,
      "outputs": []
    },
    {
      "metadata": {},
      "cell_type": "markdown",
      "source": "Compute the mean and standard deviation of Omega_matter and Omega_lambda, across the chain.\nThis estimate is what this data set tells us about these parameters."
    },
    {
      "metadata": {
        "trusted": true
      },
      "cell_type": "code",
      "source": "# write your code here\n",
      "execution_count": null,
      "outputs": []
    },
    {
      "metadata": {},
      "cell_type": "markdown",
      "source": "You can also work out derived parameters from the chain.\n\nPlot a histogram of $\\Omega_k = 1 - \\Omega_m - \\Omega_\\lambda$, and compute its mean and standard deviation"
    },
    {
      "metadata": {
        "trusted": true
      },
      "cell_type": "code",
      "source": "# write your code here\n",
      "execution_count": null,
      "outputs": []
    },
    {
      "metadata": {},
      "cell_type": "markdown",
      "source": "# Further exercises\n\n- Use the library `emcee` instead of your own metropolis sampler to \n- Improve your Metropolis-Hastings sampler by:\n    - taking the posterior covariance of the transpose of your existing chain\n    - finding the Cholesky decomposition `chol` (matrix square-root) of the posterior covariance\n    - making a new proposal `chol @ r` where `r` is a vector of random Gaussian numbers with variance 1\n\n"
    },
    {
      "metadata": {
        "trusted": true
      },
      "cell_type": "code",
      "source": "",
      "execution_count": null,
      "outputs": []
    }
  ],
  "metadata": {
    "kernelspec": {
      "name": "python3",
      "display_name": "Python 3",
      "language": "python"
    },
    "language_info": {
      "mimetype": "text/x-python",
      "nbconvert_exporter": "python",
      "name": "python",
      "pygments_lexer": "ipython3",
      "version": "3.5.4",
      "file_extension": ".py",
      "codemirror_mode": {
        "version": 3,
        "name": "ipython"
      }
    }
  },
  "nbformat": 4,
  "nbformat_minor": 2
}