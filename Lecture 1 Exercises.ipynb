{
 "cells": [
  {
   "cell_type": "markdown",
   "metadata": {},
   "source": [
    "# Cosmological Parameter Estimation Lecture 1 Exercise"
   ]
  },
  {
   "cell_type": "markdown",
   "metadata": {},
   "source": [
    "\n",
    "# Running These Exercises\n",
    "\n",
    "### MyBinder\n",
    "You can run these exercises by visting https://mybinder.org/v2/gh/joezuntz/michigan/master but your work will not automatically be saved at the end \n",
    "of each session.\n",
    "\n",
    "**To save your work:**\n",
    "- In the menu under the Jupyter logo at the top left of the page, select File > Download as > Notebook.  This will save your work to your machine.\n",
    "\n",
    "**To restore your work:**\n",
    "- Visit https://mybinder.org/v2/gh/joezuntz/michigan/master again\n",
    "- Click \"Upload\"\n",
    "- Find the file you downloaded and select it\n",
    "- Click the upload button that appears, and overwrite the existing file.\n",
    "\n",
    "### Local Jupyter\n",
    "\n",
    "You can also clone this repository from `git clone https://github.com/joezuntz/michigan` and run it locally if you already know how to do that."
   ]
  },
  {
   "cell_type": "markdown",
   "metadata": {},
   "source": [
    "***\n",
    "# Preamble"
   ]
  },
  {
   "cell_type": "markdown",
   "metadata": {},
   "source": [
    "You can run each cell by highlighting it and pressing Shift-Enter.\n",
    "\n",
    "We will first do some setup that lets us make plots inline in the notebook - run this next cell."
   ]
  },
  {
   "cell_type": "code",
   "execution_count": null,
   "metadata": {},
   "outputs": [],
   "source": [
    "%matplotlib inline\n",
    "import numpy as np\n",
    "import matplotlib.pyplot as plt\n",
    "import camb"
   ]
  },
  {
   "cell_type": "markdown",
   "metadata": {},
   "source": [
    "***\n",
    "# Lecture 1: Essential Data Handling & Modelling\n",
    "\n",
    "## Exercise 1: Astropy"
   ]
  },
  {
   "cell_type": "markdown",
   "metadata": {},
   "source": [
    "There are many public cosmology libraries that have been released to help calculate theory predictions or explore data.\n",
    "\n",
    "One of these is Astropy, a python library for astronomy research.  It contains tools for many common astronomy tasks, including basic (background) cosmology.\n",
    "\n",
    "In this first exercise we will explore how to create a cosmological model using Astropy, and use it to predict some observable values."
   ]
  },
  {
   "cell_type": "code",
   "execution_count": null,
   "metadata": {},
   "outputs": [],
   "source": [
    "from astropy.cosmology import LambdaCDM"
   ]
  },
  {
   "cell_type": "markdown",
   "metadata": {},
   "source": [
    "When you execute the cell below some documentation will pop up at the bottom.\n",
    "Read it and learn how to create a new Lambda CDM cosmology model with specified parameters.\n",
    "\n",
    "HINT: Some parameters are optional."
   ]
  },
  {
   "cell_type": "code",
   "execution_count": null,
   "metadata": {},
   "outputs": [],
   "source": [
    "LambdaCDM?"
   ]
  },
  {
   "cell_type": "markdown",
   "metadata": {},
   "source": [
    "Now, create a test model called `cosmo` with Hubble parameter 72.0, matter density 0.3, dark energy density 0.7"
   ]
  },
  {
   "cell_type": "code",
   "execution_count": null,
   "metadata": {},
   "outputs": [],
   "source": [
    "# Write your code here\n"
   ]
  },
  {
   "cell_type": "markdown",
   "metadata": {},
   "source": [
    "Your `cosmo` object has functions attached to it (\"methods\") that calculate different cosmological quantities.\n",
    "Run the cell below and scroll down in the cell to find a listing of them.\n",
    "\n",
    "Find the method `distmod` and read about its meaning."
   ]
  },
  {
   "cell_type": "code",
   "execution_count": null,
   "metadata": {},
   "outputs": [],
   "source": [
    "help(cosmo)"
   ]
  },
  {
   "cell_type": "markdown",
   "metadata": {},
   "source": [
    "First, use `cosmo.distmod` to work out the distance modulus at the single redshift value $z=1$."
   ]
  },
  {
   "cell_type": "code",
   "execution_count": null,
   "metadata": {},
   "outputs": [],
   "source": [
    "# Write your code here\n"
   ]
  },
  {
   "cell_type": "markdown",
   "metadata": {},
   "source": [
    "Now, create a numpy array of redshifts `z` = 0.1, 0.2, 0.3, ... 1.6 using numpy, and compute the distance modulus to it.\n",
    "Make a plot of distance modulus versus redshift in this model."
   ]
  },
  {
   "cell_type": "code",
   "execution_count": null,
   "metadata": {},
   "outputs": [],
   "source": [
    "# Write your code here\n"
   ]
  },
  {
   "cell_type": "markdown",
   "metadata": {},
   "source": [
    "Now let's assume that the absolute magnitude of our supernovae is `M0 = -19.3` magnitudes\n",
    "\n",
    "Use the `distmod` method to calculate the apparent magnitude $m$ of these supernovae, as a function of redshift.\n",
    "\n",
    "Make a plot of $m$ vs $z$.\n",
    "\n",
    "HINT: Re-read the help on `distmod` for the relation between apparent and absolute magnitude.  Distmod returns values with units; to remove the units from a quantity `x` you can write `x = x.value`."
   ]
  },
  {
   "cell_type": "code",
   "execution_count": null,
   "metadata": {},
   "outputs": [],
   "source": [
    "# write your code here\n"
   ]
  },
  {
   "cell_type": "markdown",
   "metadata": {},
   "source": [
    "As the final step in this exercise, write a `model` function to predict the apparent magnitude for any set of parameters, for any set of redshifts.\n",
    "We will use this tomorrow!"
   ]
  },
  {
   "cell_type": "code",
   "execution_count": null,
   "metadata": {},
   "outputs": [],
   "source": [
    "# Complete this function\n",
    "def model(H0, Omega_matter, Omega_lambda, M0, z):\n",
    "    ..."
   ]
  },
  {
   "cell_type": "markdown",
   "metadata": {},
   "source": [
    "# Exercise 2: CAMB"
   ]
  },
  {
   "cell_type": "markdown",
   "metadata": {},
   "source": [
    "\n",
    "\n",
    "CAMB, the Code for Anisotropies for the Microwave Background, is Boltzmann code:  it integrates the Boltzmann equation, $df/dt = C[f]$, which describes how collisional processes affect densities, momenta, and higher order moments of the distribution of light, matter, and other cosmic components like neutrinos.\n",
    "\n",
    "First, create an array or redshift values from 0 .. 2 with spacing 0.1, at which CAMB will evaluate the matter power spectrum.\n",
    "\n",
    "HINT: `np.arange`"
   ]
  },
  {
   "cell_type": "code",
   "execution_count": null,
   "metadata": {},
   "outputs": [],
   "source": [
    "# Complete this code:\n",
    "\n",
    "redshifts = "
   ]
  },
  {
   "cell_type": "markdown",
   "metadata": {},
   "source": [
    "We will use the following parameters to CAMB, which describe the cosmology and tell it that we want the late Universe power spectrum, which is calculated from the transfer functions.  Fill in the `...` below to use all these and your `redshifts` variable from above as named arguments to `camb.set_params`, which will create the settings CAMB needs.\n",
    "\n",
    "$\\Omega_c h^2 = 0.1193$\n",
    "\n",
    "$\\Omega_b h^2 = 0.02242$\n",
    "\n",
    "$\\Omega_k = 0.0$\n",
    "\n",
    "$H_0 = 67.66$\n",
    "\n",
    "HINT: Have a look at the camb documentation on https://camb.readthedocs.io/en/latest/model.html for parameter names"
   ]
  },
  {
   "cell_type": "code",
   "execution_count": null,
   "metadata": {},
   "outputs": [],
   "source": [
    "# Complete this code:\n",
    "\n",
    "p = camb.set_params(redshifts=redshifts, WantTransfer = True, ... "
   ]
  },
  {
   "cell_type": "markdown",
   "metadata": {},
   "source": [
    "Run CAMB as described in the lecture using your settings `p`."
   ]
  },
  {
   "cell_type": "code",
   "execution_count": null,
   "metadata": {},
   "outputs": [],
   "source": [
    "# Complete this code\n",
    "results = "
   ]
  },
  {
   "cell_type": "markdown",
   "metadata": {},
   "source": [
    "CAMB can generate an interpolator for the matter power, an object which stores $P(k, z)$ evaluated at grid points in $k$ and $z$, and knows how to interpolate between them to other values.\n",
    "\n",
    "Run the following cell to get a list of all the attributes on the results that start with `get_`.  Find the one that will compute this estimator"
   ]
  },
  {
   "cell_type": "code",
   "execution_count": null,
   "metadata": {},
   "outputs": [],
   "source": [
    "# Run this cell\n",
    "for d in dir(results):\n",
    "    if d.startswith('get_'):\n",
    "        print(d)"
   ]
  },
  {
   "cell_type": "markdown",
   "metadata": {},
   "source": [
    "and call it to create an interpolator.  It takes no arguments."
   ]
  },
  {
   "cell_type": "code",
   "execution_count": null,
   "metadata": {},
   "outputs": [],
   "source": [
    "# Complete this code\n",
    "P = "
   ]
  },
  {
   "cell_type": "markdown",
   "metadata": {},
   "source": [
    "Use your interpolator to plot P(k) at varying redshift values 0, 0.1, and 0.2, using the method `P.P(z, k)`.\n",
    "For `k`, use log-spaced values from $10^{-3}$ to $10^{0}$\n",
    "\n",
    "HINT: use np.logspace for the k values.\n",
    "\n",
    "What are the units of these quantities?\n"
   ]
  },
  {
   "cell_type": "code",
   "execution_count": null,
   "metadata": {},
   "outputs": [],
   "source": [
    "# Write your code here\n"
   ]
  },
  {
   "cell_type": "markdown",
   "metadata": {},
   "source": [
    "### More Activities\n",
    "\n",
    "If you complete the activities above, try one of these activities:\n",
    "- Plot some other CAMB outputs, like the CMB power spectra\n",
    "- Compare the angular diameter distance calculated by CAMB and by Astropy.  They should agree to 10^{-6} if all the parameters are the same.  Beware of neutrinos!\n",
    "- Dragan described the $\\sigma_8$ parameter, an integral over P(k).  Calculate it, and compare it to the camb internal version"
   ]
  },
  {
   "cell_type": "code",
   "execution_count": null,
   "metadata": {},
   "outputs": [],
   "source": []
  }
 ],
 "metadata": {
  "kernelspec": {
   "display_name": "Python 3",
   "language": "python",
   "name": "python3"
  },
  "language_info": {
   "codemirror_mode": {
    "name": "ipython",
    "version": 3
   },
   "file_extension": ".py",
   "mimetype": "text/x-python",
   "name": "python",
   "nbconvert_exporter": "python",
   "pygments_lexer": "ipython3",
   "version": "3.7.7"
  }
 },
 "nbformat": 4,
 "nbformat_minor": 2
}
