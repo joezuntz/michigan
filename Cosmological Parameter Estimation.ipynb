{
 "cells": [
  {
   "cell_type": "markdown",
   "metadata": {},
   "source": [
    "# Cosmological Parameter Estimation"
   ]
  },
  {
   "cell_type": "markdown",
   "metadata": {},
   "source": [
    "***\n",
    "# Preamble"
   ]
  },
  {
   "cell_type": "markdown",
   "metadata": {},
   "source": [
    "We will first do some setup that lets us make plots inline in the notebook.\n",
    "You can run each cell by highlighting it and pressing Shift-Enter."
   ]
  },
  {
   "cell_type": "code",
   "execution_count": null,
   "metadata": {},
   "outputs": [],
   "source": [
    "%matplotlib inline"
   ]
  },
  {
   "cell_type": "code",
   "execution_count": null,
   "metadata": {},
   "outputs": [],
   "source": [
    "import numpy as np\n",
    "import matplotlib.pyplot as plt"
   ]
  },
  {
   "cell_type": "markdown",
   "metadata": {},
   "source": [
    "***\n",
    "\n",
    "# Running These Exercises\n",
    "\n",
    "### MyBinder\n",
    "You can run these exercises by visting https://mybinder.org/v2/gh/joezuntz/michigan/master but your work will not automatically be saved at the end \n",
    "of each session.\n",
    "\n",
    "**To save your work:**\n",
    "- In the menu under the Jupyter logo at the top left of the page, select File > Download as > Notebook.  This will save your work to your machine.\n",
    "\n",
    "**To restore your work:**\n",
    "- Visit https://mybinder.org/v2/gh/joezuntz/michigan/master again\n",
    "- Click \"Upload\"\n",
    "- Find the file you downloaded and select it\n",
    "- Click the upload button that appears, and overwrite the existing file.\n",
    "\n",
    "### Local Jupyter\n",
    "\n",
    "You can also clone this repository and run it locally using `git clone https://github.com/joezuntz/michigan` if you already know how to do that, but we won't be able to help you with it."
   ]
  },
  {
   "cell_type": "markdown",
   "metadata": {},
   "source": [
    "***\n",
    "# Lecture 1: Essential Data Handling & Modelling\n",
    "\n",
    "## Exercise 1: Astropy"
   ]
  },
  {
   "cell_type": "markdown",
   "metadata": {},
   "source": [
    "There are many public cosmology libraries that have been released to help calculate theory predictions or explore data.\n",
    "\n",
    "One of these is Astropy, a python library for astronomy research.  It contains tools for many common astronomy tasks, including basic (background) cosmology.  It also contains a library for converting and using units, which we will use here too.\n",
    "\n",
    "In this first exercise we will explore how to create a cosmological model using Astropy, and use it to predict some observable values."
   ]
  },
  {
   "cell_type": "code",
   "execution_count": null,
   "metadata": {},
   "outputs": [],
   "source": [
    "from astropy.cosmology import LambdaCDM\n",
    "from astropy.units import mag"
   ]
  },
  {
   "cell_type": "markdown",
   "metadata": {},
   "source": [
    "When you execute the cell below some documentation will pop up at the bottom.\n",
    "Read it and learn how to create a new Lambda CDM cosmology model with specified parameters.\n",
    "\n",
    "HINT: Some parameters are optional."
   ]
  },
  {
   "cell_type": "code",
   "execution_count": null,
   "metadata": {},
   "outputs": [],
   "source": [
    "LambdaCDM?"
   ]
  },
  {
   "cell_type": "markdown",
   "metadata": {},
   "source": [
    "Now, create a test model called `cosmo` with Hubble parameter 72.0, matter density 0.3, dark energy density 0.7"
   ]
  },
  {
   "cell_type": "code",
   "execution_count": null,
   "metadata": {},
   "outputs": [],
   "source": [
    "# Write your code here\n"
   ]
  },
  {
   "cell_type": "markdown",
   "metadata": {},
   "source": [
    "Your `cosmo` object has functions attached to it (\"methods\") that calculate different cosmological quantities.\n",
    "Run the cell below and scroll down in the cell to find a listing of them.\n",
    "\n",
    "Find the method `distmod` and read about its meaning."
   ]
  },
  {
   "cell_type": "code",
   "execution_count": null,
   "metadata": {},
   "outputs": [],
   "source": [
    "help(cosmo)"
   ]
  },
  {
   "cell_type": "markdown",
   "metadata": {},
   "source": [
    "First, use `cosmo.distmod` to work out the distance modulus at the single redshift value $z=1$."
   ]
  },
  {
   "cell_type": "code",
   "execution_count": null,
   "metadata": {},
   "outputs": [],
   "source": [
    "# Write your code here\n"
   ]
  },
  {
   "cell_type": "markdown",
   "metadata": {},
   "source": [
    "Now, create a numpy array of redshifts `z` = 0.1, 0.2, 0.3, ... 1.6 using numpy, and compute the distance modulus to it.\n",
    "Make a plot of distance modulus versus redshift in this model."
   ]
  },
  {
   "cell_type": "code",
   "execution_count": null,
   "metadata": {},
   "outputs": [],
   "source": [
    "# Write your code here\n"
   ]
  },
  {
   "cell_type": "markdown",
   "metadata": {},
   "source": [
    "Now let's assume that the absolute magnitude of our supernovae is `M0 = -19.3` magnitudes\n",
    "\n",
    "Use the `distmod` method to calculate the apparent magnitude $m$ of these supernovae, as a function of redshift.\n",
    "\n",
    "Make a plot of $m$ vs $z$.\n",
    "\n",
    "HINT: Re-read the help on `distmod` for the relation between apparent and absolute magnitude.  Distmod returns values with units; to remove the units from a quantity `x` you can write `x = x.value`."
   ]
  },
  {
   "cell_type": "code",
   "execution_count": null,
   "metadata": {},
   "outputs": [],
   "source": [
    "# write your code here\n"
   ]
  },
  {
   "cell_type": "markdown",
   "metadata": {},
   "source": [
    "As the final step in this exercise, write a `model` function to predict the apparent magnitude for any set of parameters, for any set of redshifts."
   ]
  },
  {
   "cell_type": "code",
   "execution_count": null,
   "metadata": {},
   "outputs": [],
   "source": [
    "# Complete this function\n",
    "def model(H0, Omega_matter, Omega_lambda, M0, z):\n",
    "    ..."
   ]
  },
  {
   "cell_type": "markdown",
   "metadata": {},
   "source": [
    "That's the end of lecture 1.  If you've finished it and have time to spare, your stretch goal is to plot a graph of the luminosity distance, angular diameter distance, and comoving distance from z=0 to z=10."
   ]
  },
  {
   "cell_type": "code",
   "execution_count": null,
   "metadata": {},
   "outputs": [],
   "source": []
  },
  {
   "cell_type": "markdown",
   "metadata": {},
   "source": [
    "***\n",
    "## Exercise 2: Loading and exploring supernova data\n",
    "\n",
    "The *Pantheon* supernova analysis project measured the apparent magnitude of a large sample of supernovae, standardising them to control any differences between them and very carefully calibrating them.  They grouped them into 40 bins of data, which we have extracted and supplied with this notebook.\n",
    "\n",
    "In this exercise we will load the Pantheon data and explore it.\n",
    "\n",
    "In later exercises we will use Pantheon to constrain cosmological parameters."
   ]
  },
  {
   "cell_type": "markdown",
   "metadata": {},
   "source": [
    "Load in the Pantheon data from the file `data.txt`.  The two columns in it are *redshift* `z_obs` and *apparent magnitude* `m_obs`.\n",
    "\n",
    "HINT: Use the function `np.loadtxt` to do this quickly, but then you'll need to pull out the two columns separately."
   ]
  },
  {
   "cell_type": "code",
   "execution_count": null,
   "metadata": {},
   "outputs": [],
   "source": [
    "# write your code here\n"
   ]
  },
  {
   "cell_type": "markdown",
   "metadata": {},
   "source": [
    "Make a plot of the data points in the file, showing $m$ as a function of $z$"
   ]
  },
  {
   "cell_type": "code",
   "execution_count": null,
   "metadata": {},
   "outputs": [],
   "source": [
    "#write your code here\n"
   ]
  },
  {
   "cell_type": "markdown",
   "metadata": {},
   "source": [
    "Now use the function you wrote in the last exercise to make a theory prediction for $m$ for the same parameters we have used before:\n",
    "```\n",
    "    H0 = 72.0\n",
    "    Omega_matter = 0.3\n",
    "    Omega_lambda = 0.7\n",
    "    M0 = -19.3\n",
    "```\n",
    "Add it to your plot.\n",
    "How good is the fit?"
   ]
  },
  {
   "cell_type": "code",
   "execution_count": null,
   "metadata": {},
   "outputs": [],
   "source": [
    "# write your code here\n"
   ]
  },
  {
   "cell_type": "markdown",
   "metadata": {},
   "source": [
    "Load the covariance matrix `C` of the Pantheon data points from the file `cov.txt`.  Check its shape is 40 x 40."
   ]
  },
  {
   "cell_type": "code",
   "execution_count": null,
   "metadata": {},
   "outputs": [],
   "source": [
    "# write your code here.\n"
   ]
  },
  {
   "cell_type": "markdown",
   "metadata": {},
   "source": [
    "Display the covariance matrix as an image, and describe what you see.\n",
    "\n",
    "HINT: `plt.imshow`.\n",
    "It's easiest to see detail if you plot the log of the absolute value of the matrix."
   ]
  },
  {
   "cell_type": "code",
   "execution_count": null,
   "metadata": {},
   "outputs": [],
   "source": [
    "# write your code here.\n"
   ]
  },
  {
   "cell_type": "markdown",
   "metadata": {},
   "source": [
    "Use the covariance matrix to work out the standard deviation of each data point as an array.\n",
    "\n",
    "HINT: The covariance $C_{ij}$ between two data points $i$ and $j$ is the expectation $E\\left[(x_i - \\bar{x_i}) \\cdot (x_j - \\bar{x_j})\\right]$.  The variance of a single data point $i$ is $E\\left[(x_i - \\bar{x_i})^2\\right]$, so think about where the variance is in the covariance matrix. Don't forget the relationship between variance and standard deviation! There are numpy functions that will help with both of these."
   ]
  },
  {
   "cell_type": "code",
   "execution_count": null,
   "metadata": {},
   "outputs": [],
   "source": [
    "# write your code here.\n"
   ]
  },
  {
   "cell_type": "markdown",
   "metadata": {},
   "source": [
    "Make a plot like the first one of $m$ vs $z$, but this time include error bars.\n",
    "\n",
    "HINT: `plt.errorbar`.  The error bars are very small, so will be hard to see! You could expand them by a factor of 10."
   ]
  },
  {
   "cell_type": "code",
   "execution_count": null,
   "metadata": {},
   "outputs": [],
   "source": [
    "# write your code here.\n"
   ]
  },
  {
   "cell_type": "markdown",
   "metadata": {},
   "source": [
    "Compute the inverse `invC` of the matrix `C` and display it in the same way as you did the covariance.\n",
    "\n",
    "HINT: `np.linalg.inv`"
   ]
  },
  {
   "cell_type": "code",
   "execution_count": null,
   "metadata": {},
   "outputs": [],
   "source": [
    "# write your code here.\n"
   ]
  },
  {
   "cell_type": "markdown",
   "metadata": {},
   "source": [
    "For this set of parameters, compute the log-likelihood:\n",
    "\n",
    "$-\\frac{1}{2} * (m_\\textrm{obs} - m_\\textrm{pred})^T \\cdot C^{-1} \\cdot(m_\\textrm{obs} - m_\\textrm{pred})$\n",
    "\n",
    "Roughly speaking a good log-likelihood should be about $-\\frac{1}{2} n_\\mathrm{data}$.  Is this a good fit?\n",
    "\n",
    "\n",
    "HINT: Use the $@$ sign to do the The matrix (and dot) product in numpy"
   ]
  },
  {
   "cell_type": "code",
   "execution_count": null,
   "metadata": {},
   "outputs": [],
   "source": [
    "# write your code here\n"
   ]
  },
  {
   "cell_type": "markdown",
   "metadata": {},
   "source": [
    "Finally, write a function `loglike` that takes a vector of your four parameters, `[H0, Omega_matter, Omega_de, M0]`, and computes their likelihood given the observed data.\n",
    "\n",
    "Astropy will not work if a negative value of Omega_matter or H0 is supplied. Make your function check for this and return -infinity if this happens."
   ]
  },
  {
   "cell_type": "code",
   "execution_count": null,
   "metadata": {},
   "outputs": [],
   "source": [
    "# complete this function\n",
    "def loglike(p):\n",
    "    ...\n"
   ]
  },
  {
   "cell_type": "markdown",
   "metadata": {},
   "source": [
    "# Lecture 2: Exploring Likelihoods"
   ]
  },
  {
   "cell_type": "markdown",
   "metadata": {},
   "source": [
    "***\n",
    "## Exercise 3: Exploring the likelihood on a grid"
   ]
  },
  {
   "cell_type": "markdown",
   "metadata": {},
   "source": [
    "We will now explore the likelihood while fixing two of the parameters, `Omega_matter=0.3` and `Omega_lambda=0.7`, and just varying `H0` and `M0`.\n",
    "\n",
    "Compute your log-likelihood on a grid of 100 values each of `H0 = 65 .. 80` and `M0 = -19.3 .. 19.1`.\n",
    "\n",
    "This may take up to a minute - use a timer (e.g. on your phone) to measure how long it takes.\n",
    "\n",
    "HINT: You can use `np.linspace` to generate the set of values for each parameters.  You will need to make two loops, one through each pair of values."
   ]
  },
  {
   "cell_type": "code",
   "execution_count": null,
   "metadata": {
    "scrolled": false
   },
   "outputs": [],
   "source": [
    "# write your code here\n",
    "N = 100\n"
   ]
  },
  {
   "cell_type": "markdown",
   "metadata": {},
   "source": [
    "Display an image of the likelihood (not the log-likelihood).\n",
    "\n",
    "Describe what you see, and its mathematical and physical meaning.\n",
    "\n",
    "HINT: You can use the `extent` argument to `plt.imshow` to get the axes right, and the option `aspect='auto'`"
   ]
  },
  {
   "cell_type": "code",
   "execution_count": null,
   "metadata": {},
   "outputs": [],
   "source": [
    "# write your code here\n"
   ]
  },
  {
   "cell_type": "markdown",
   "metadata": {},
   "source": [
    "Imagine you had to explore the other two parameters, `Omega_matter` and `Omega_lambda`, at the same time as these two parameters, using the same method.\n",
    "\n",
    "Estimate how long in days this would take to calculate.\n"
   ]
  },
  {
   "cell_type": "code",
   "execution_count": null,
   "metadata": {},
   "outputs": [],
   "source": [
    "# write your code here\n"
   ]
  },
  {
   "cell_type": "markdown",
   "metadata": {},
   "source": [
    "# Exercise 4: Sampling\n",
    "\n",
    "In the last exercise you used a brute-force grid search to explore a 2D parameter space of a model for the Pantheon supernovae.\n",
    "\n",
    "You should have found that it would take several days to extend this to a 4D grid, which in unreasonably long, though feasible.  Models for other cosmology data sets might have more than 30 parameters, which would take longer than the lifetime of the Universe to explore like this.\n",
    "\n",
    "We will use the Metropolis-Hastings algorithm that we described in the lectures to explore this parameter space instead, to make it take a manageable time."
   ]
  },
  {
   "cell_type": "markdown",
   "metadata": {},
   "source": [
    "We will first need a proposal function, which should returns a random jump from a current position in parameter space to one that is nearby.\n",
    "\n",
    "Write a proposal that adds a small Gaussian-distributed jump from the current point `p` in each direction.  Since the parameters are all different they need different sized jumps - you should make the typical size be these values for the different parameters:\n",
    "\n",
    "```\n",
    " H0: 0.5\n",
    " omega_matter: 0.01\n",
    " omega_lambda: 0.01\n",
    " M0: 0.025\n",
    "```\n",
    "\n",
    "HINT: `np.random.normal(n)` generates `n` Gaussian-distributed random numbers with standard deviation 1."
   ]
  },
  {
   "cell_type": "code",
   "execution_count": null,
   "metadata": {},
   "outputs": [],
   "source": [
    "# complete this function\n",
    "def propose(p):\n",
    "    ..."
   ]
  },
  {
   "cell_type": "markdown",
   "metadata": {},
   "source": [
    "Now we will write a Metropolis-Hastings MCMC sampling process.\n",
    "\n",
    "Write a code to perform the MH loop that we described in lectures, with these features:\n",
    "- record the value of the new parameter set each time through the loop.\n",
    "- record the likelihood each iteration.\n",
    "- do 100,000 iterations of the loop\n",
    "- start from the point `[72., 0.3, 0.7, -19.3]`\n",
    "- count the number of time the proposal is accepted.  If everything is working, about 166% of the jumps should be accepted in this case.\n",
    "\n",
    "This will take a few minutes - you might want to print something out every 5000 samples to give you an idea of progress.\n",
    "\n",
    "HINT: It's easiest to pre-allocate the arrays of parameter values and likelihoods. It's also easier always to work in log-likelihoods.  This will take a few minutes to run."
   ]
  },
  {
   "cell_type": "code",
   "execution_count": null,
   "metadata": {},
   "outputs": [],
   "source": [
    "# write your code here\n"
   ]
  },
  {
   "cell_type": "markdown",
   "metadata": {},
   "source": [
    "Plot the value of each parameter throughout the chain.  Comment on the performance of the proposal.\n",
    "\n",
    "Why are some parameters better explored than others?  How could you improve the performance?\n"
   ]
  },
  {
   "cell_type": "code",
   "execution_count": null,
   "metadata": {},
   "outputs": [],
   "source": [
    "# write your code here\n"
   ]
  },
  {
   "cell_type": "markdown",
   "metadata": {},
   "source": [
    "Make a point plot of H0 versus M0 across the chain.\n",
    "\n",
    "Compare this to your grid plot earlier.\n",
    "\n",
    "HINT: Use a comma `','` as the marker type to make it easier to see."
   ]
  },
  {
   "cell_type": "code",
   "execution_count": null,
   "metadata": {},
   "outputs": [],
   "source": [
    "# write your code here\n"
   ]
  },
  {
   "cell_type": "markdown",
   "metadata": {},
   "source": [
    "Make a scatter plot of omega_matter versus omega_lambda for the full chain.\n",
    "\n",
    "Use the likelihood value as the color of each point, and size=1 for each.\n",
    "\n",
    "HINT: Use `plt.scatter`\n"
   ]
  },
  {
   "cell_type": "code",
   "execution_count": null,
   "metadata": {},
   "outputs": [],
   "source": [
    "# write your code here\n"
   ]
  },
  {
   "cell_type": "markdown",
   "metadata": {},
   "source": [
    "Make a histogram of each parameter across the chain..\n",
    "\n",
    "Use the log-likelihood value as the color of each point, and size `s=1` for each.\n",
    "\n",
    "HINT: Use `plt.hist`"
   ]
  },
  {
   "cell_type": "code",
   "execution_count": null,
   "metadata": {},
   "outputs": [],
   "source": [
    "# write your code here\n"
   ]
  },
  {
   "cell_type": "markdown",
   "metadata": {},
   "source": [
    "Compute the mean and standard deviation of Omega_matter and Omega_lambda, across the chain.\n",
    "This estimate is what this data set tells us about these parameters."
   ]
  },
  {
   "cell_type": "code",
   "execution_count": null,
   "metadata": {},
   "outputs": [],
   "source": [
    "# write your code here\n"
   ]
  },
  {
   "cell_type": "markdown",
   "metadata": {},
   "source": [
    "You can also work out derived parameters from the chain.\n",
    "\n",
    "Plot a histogram of $\\Omega_k = 1 - \\Omega_m - \\Omega_\\lambda$, and compute its mean and standard deviation"
   ]
  },
  {
   "cell_type": "code",
   "execution_count": null,
   "metadata": {},
   "outputs": [],
   "source": [
    "# write your code here\n"
   ]
  },
  {
   "cell_type": "markdown",
   "metadata": {},
   "source": [
    "# Further exercises\n",
    "\n",
    "- Use the library `emcee` instead of your own metropolis sampler to \n",
    "- Improve your Metropolis-Hastings sampler by:\n",
    "    - taking the posterior covariance of the transpose of your existing chain\n",
    "    - finding the Cholesky decomposition `chol` (matrix square-root) of the posterior covariance\n",
    "    - making a new proposal `chol @ r` where `r` is a vector of random Gaussian numbers with variance 1\n",
    "\n"
   ]
  },
  {
   "cell_type": "code",
   "execution_count": null,
   "metadata": {},
   "outputs": [],
   "source": []
  }
 ],
 "metadata": {
  "kernelspec": {
   "display_name": "Python 3",
   "language": "python",
   "name": "python3"
  },
  "language_info": {
   "codemirror_mode": {
    "name": "ipython",
    "version": 3
   },
   "file_extension": ".py",
   "mimetype": "text/x-python",
   "name": "python",
   "nbconvert_exporter": "python",
   "pygments_lexer": "ipython3",
   "version": "3.7.7"
  }
 },
 "nbformat": 4,
 "nbformat_minor": 2
}
