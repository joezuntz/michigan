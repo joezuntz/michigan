{
 "cells": [
  {
   "cell_type": "markdown",
   "metadata": {},
   "source": [
    "# Lecture 3"
   ]
  },
  {
   "cell_type": "markdown",
   "metadata": {},
   "source": [
    "# Exercise 5: Nested Sampling"
   ]
  },
  {
   "cell_type": "markdown",
   "metadata": {},
   "source": [
    "As usual, we start with some setup:"
   ]
  },
  {
   "cell_type": "code",
   "execution_count": null,
   "metadata": {},
   "outputs": [],
   "source": [
    "%matplotlib inline\n",
    "import numpy as np\n",
    "import matplotlib.pyplot as plt\n"
   ]
  },
  {
   "cell_type": "markdown",
   "metadata": {},
   "source": [
    "We will also use a new library here, called UltraNest, for nested sampling, healpy, and some tools to support it."
   ]
  },
  {
   "cell_type": "code",
   "execution_count": null,
   "metadata": {
    "scrolled": true
   },
   "outputs": [],
   "source": [
    "import ultranest"
   ]
  },
  {
   "cell_type": "markdown",
   "metadata": {},
   "source": [
    "Our goal will be to compare how well two models fit the data, LambdaCDM, where dark energy is a cosmological constant, and wCDM, where it can vary with a fixed equation of state $w(z) \\equiv - p / \\rho c^2 = w_0$.\n",
    "\n",
    "Astropy has a model class for each of these."
   ]
  },
  {
   "cell_type": "code",
   "execution_count": null,
   "metadata": {},
   "outputs": [],
   "source": [
    "from astropy.cosmology import LambdaCDM, wCDM"
   ]
  },
  {
   "cell_type": "markdown",
   "metadata": {},
   "source": [
    "We will use the same Pantheon data as before:"
   ]
  },
  {
   "cell_type": "code",
   "execution_count": null,
   "metadata": {},
   "outputs": [],
   "source": [
    "# Load in the data\n",
    "z_obs, m_obs = np.loadtxt(\"./data.txt\").T\n",
    "C = np.loadtxt(\"./cov.txt\")\n",
    "invC = np.linalg.inv(C)"
   ]
  },
  {
   "cell_type": "markdown",
   "metadata": {},
   "source": [
    "Last exercise you wrote functions to compute the theory model and liklihood of the Pantheon data under the Lambda CDM model.\n",
    "Copy those in here, but rename them `model_lcdm` and `loglike_lcdm`.\n",
    "\n",
    "If you didn't complete the exercise, you can find model answers in the Lecture 2 Answers notebook."
   ]
  },
  {
   "cell_type": "code",
   "execution_count": null,
   "metadata": {},
   "outputs": [],
   "source": [
    "# Copy your functions in here.\n"
   ]
  },
  {
   "cell_type": "markdown",
   "metadata": {},
   "source": [
    "We will be comparing to the wCDM model, so will need equivalent `model_wcdm` and `loglike_wcdm` functions to match these.\n",
    "Write these functions here, remembering that we have a new parameter `w0` that needs to be included throughout"
   ]
  },
  {
   "cell_type": "code",
   "execution_count": null,
   "metadata": {},
   "outputs": [],
   "source": [
    "# Complete these functions\n",
    "\n",
    "def model_wcdm(H0, Omega_matter, Omega_lambda, M0, w0, z):\n",
    "    ...\n",
    "    return m\n",
    "\n",
    "\n",
    "def loglike_wcdm(p):\n",
    "    ...\n",
    "    return L"
   ]
  },
  {
   "cell_type": "markdown",
   "metadata": {},
   "source": [
    "Since nested sampling gradually moves in from the edges of the prior space, we need to specify what those priors\n",
    "are and how to transform from the *unit cube*, to parameter values.\n",
    "\n",
    "This means converting a number between 0 and 1 for each parameter to the full parameter space.  In general it would use the cumulative density function of the prior on each parameter, but to keep things simple we'll use uniform priors here, which makes everything much easier.\n",
    "\n",
    "In this case, for each parameter we transform $u_i$ which is between 0 and 1 to $x_i$ which is between some minimum and maximum we specify, using $x_i = \\mathrm{min}_i + (\\mathrm{max}_i - \\mathrm{min}_i) \\cdot u_i$\n",
    "\n",
    "HINT: You can use numpy's vector addition."
   ]
  },
  {
   "cell_type": "code",
   "execution_count": null,
   "metadata": {},
   "outputs": [],
   "source": [
    "# These are the min and max values we will use for each parameters.  What is the physical motivation behind each?\n",
    "mins_lcdm = np.array([60., 0., 0., -20.])\n",
    "maxs_lcdm = np.array([80., 1., 1., -18.])\n",
    "mins_wcdm = np.array([60., 0., 0., -20., -2.])\n",
    "maxs_wcdm = np.array([80., 1., 1., -18., -0.5])\n",
    "\n",
    "# Complete thes functions\n",
    "def prior_transform_wcdm(u):\n",
    "    x = ...\n",
    "    return x\n",
    "\n",
    "def prior_transform_lcdm(u):\n",
    "    x = ...\n",
    "    return x\n"
   ]
  },
  {
   "cell_type": "markdown",
   "metadata": {},
   "source": [
    "Now we can run our Nested Sampler.  We will use the most basic sampler that UltraNest offers - it also has more advanced versions that can be faster.\n",
    "\n",
    "First we will do this for LambdaCDM.  It may take a minute or two to complete."
   ]
  },
  {
   "cell_type": "code",
   "execution_count": null,
   "metadata": {
    "scrolled": true
   },
   "outputs": [],
   "source": [
    "# Run this code\n",
    "param_names_lcdm = ['H0', 'Omega_matter', 'Omega_lambda', 'M0']\n",
    "sampler_lcdm = ultranest.NestedSampler(param_names_lcdm, loglike_lcdm, prior_transform_lcdm, log_dir=\"./lcdm\", num_live_points=100)\n",
    "result_lcdm = sampler_lcdm.run()"
   ]
  },
  {
   "cell_type": "markdown",
   "metadata": {},
   "source": [
    "Use the `print_results` method on the `sampler_lcdm` object to see the log of the estimated evidence Z:"
   ]
  },
  {
   "cell_type": "code",
   "execution_count": null,
   "metadata": {},
   "outputs": [],
   "source": [
    "# Write your code here\n"
   ]
  },
  {
   "cell_type": "markdown",
   "metadata": {},
   "source": [
    "Now we'll do the same for wCDM - write equivalent code for that model here and run it.\n",
    "\n",
    "It will take a bit longer as it has an additional parameter."
   ]
  },
  {
   "cell_type": "code",
   "execution_count": null,
   "metadata": {},
   "outputs": [],
   "source": [
    "# Complete this code\n",
    "\n",
    "param_names_wcdm = ...\n",
    "sampler_wcdm = ...\n",
    "result_wcdm = ...\n"
   ]
  },
  {
   "cell_type": "markdown",
   "metadata": {},
   "source": [
    "Again, use the print_summary method on the sampler objects to print out log(Z) values\n"
   ]
  },
  {
   "cell_type": "code",
   "execution_count": null,
   "metadata": {},
   "outputs": [],
   "source": [
    "# Write your code here\n"
   ]
  },
  {
   "cell_type": "markdown",
   "metadata": {},
   "source": [
    "The log(Z) values are stored in the dictionaries result_lcdm and result_wcdm.\n",
    "\n",
    "Extract them and compute the difference in log(Z) and the relative probability of the two models.  What can you conclude?\n",
    "\n",
    "What is the error on this number (the dictionaries also contain 'logzerr')"
   ]
  },
  {
   "cell_type": "code",
   "execution_count": null,
   "metadata": {},
   "outputs": [],
   "source": [
    "# Write your code here\n"
   ]
  },
  {
   "cell_type": "markdown",
   "metadata": {},
   "source": [
    "# Exercise 6: Healpix"
   ]
  },
  {
   "cell_type": "markdown",
   "metadata": {},
   "source": [
    "We'll now use the library `healpy` to explore some Healpix maps of the CMB sky made from Planck Space Telescope data."
   ]
  },
  {
   "cell_type": "code",
   "execution_count": null,
   "metadata": {},
   "outputs": [],
   "source": [
    "import healpy"
   ]
  },
  {
   "cell_type": "markdown",
   "metadata": {},
   "source": [
    "Use the function `healpy.read_map` to load the Healpix file `\"planck_cmb.fits\"`.\n",
    "\n",
    "This might generate a warning, which you can ignore."
   ]
  },
  {
   "cell_type": "code",
   "execution_count": null,
   "metadata": {},
   "outputs": [],
   "source": [
    "# Complete this code\n",
    "m = ..."
   ]
  },
  {
   "cell_type": "markdown",
   "metadata": {},
   "source": [
    "The function above should also print the nside parameter, defining the resolution of the map.\n",
    "Define it here so we can use it later."
   ]
  },
  {
   "cell_type": "code",
   "execution_count": null,
   "metadata": {},
   "outputs": [],
   "source": [
    "# Complete this code\n",
    "nside = ..."
   ]
  },
  {
   "cell_type": "markdown",
   "metadata": {},
   "source": [
    "Use the function `healpy.mollview` to display the map:"
   ]
  },
  {
   "cell_type": "code",
   "execution_count": null,
   "metadata": {},
   "outputs": [],
   "source": [
    "# Write your code here\n"
   ]
  },
  {
   "cell_type": "markdown",
   "metadata": {},
   "source": [
    "Uh oh!  The core of th galaxy is so bright that it outshines everything else in the map, so the color scale makes the map look the same all over (the CMB fluctuations are very small).\n",
    "\n",
    "Explore values to use for the `min` and `max` options of `mollview` to make the fluctuations in the map visible clearly."
   ]
  },
  {
   "cell_type": "code",
   "execution_count": null,
   "metadata": {},
   "outputs": [],
   "source": [
    "# Write your code here\n"
   ]
  },
  {
   "cell_type": "markdown",
   "metadata": {},
   "source": [
    "Find the coordinates of the brightest point in the map, first by finding its pixel index and then by converting to sky coordinates.\n",
    "\n",
    "HINT: `np.argmax` finds the index of the maximum value of an array.  `healpy.pix2ang` can convert to coordinates.  "
   ]
  },
  {
   "cell_type": "code",
   "execution_count": null,
   "metadata": {},
   "outputs": [],
   "source": [
    "# Write your code here\n"
   ]
  },
  {
   "cell_type": "markdown",
   "metadata": {},
   "source": [
    "We will now measure the power spectrum of the map, which should roughly trace this famous plot:\n",
    "    https://lambda.gsfc.nasa.gov/product/map/dr2/map_images/PowerSpectrum512.png\n",
    "    \n",
    "There are seveal issues with the map, so we won't get the result straight away.\n",
    "        \n",
    "Use `healpy.anafast` to compute the power spectrum `c_ell` of the map."
   ]
  },
  {
   "cell_type": "code",
   "execution_count": null,
   "metadata": {},
   "outputs": [],
   "source": [
    "# Write your code here\n"
   ]
  },
  {
   "cell_type": "markdown",
   "metadata": {},
   "source": [
    "Now plot it in the form `ell * (ell + 1) * c_ell / (2 * np.pi)`"
   ]
  },
  {
   "cell_type": "code",
   "execution_count": null,
   "metadata": {},
   "outputs": [],
   "source": [
    "# Complete this code\n",
    "ell = np.arange(cl.size)\n",
    "f = ell*(ell+1)/2/np.pi\n",
    "\n",
    "..."
   ]
  },
  {
   "cell_type": "markdown",
   "metadata": {},
   "source": [
    "This doesn't look right yet! The bright core of the galaxy is the biggest contaminant.  Use the `gal_cut` argument to `anafast` to remove that region and plot it agan.  Have a look at the map to decide how big an area to remove."
   ]
  },
  {
   "cell_type": "code",
   "execution_count": null,
   "metadata": {},
   "outputs": [],
   "source": [
    "# Write your code here\n"
   ]
  },
  {
   "cell_type": "markdown",
   "metadata": {},
   "source": [
    "That should be a little better, but there is still a noise level of about 2.1e-14 in the power spectrum `c_ell` .  Plot a version with that subtracted.\n",
    "\n",
    "HINT: Note that it's subtracted from `c_ell`, not `ell * (ell + 1) * c_ell / (2 * np.pi)`.\n"
   ]
  },
  {
   "cell_type": "code",
   "execution_count": null,
   "metadata": {},
   "outputs": [],
   "source": [
    "# Write your code here\n"
   ]
  },
  {
   "cell_type": "markdown",
   "metadata": {},
   "source": [
    "At this Nside parameter the results of a transform are not very accurate above `2*Nside`.  Make a plot going up to just that ell value."
   ]
  },
  {
   "cell_type": "code",
   "execution_count": null,
   "metadata": {},
   "outputs": [],
   "source": [
    "# Write your code here\n"
   ]
  },
  {
   "cell_type": "markdown",
   "metadata": {},
   "source": [
    "This should look at least vageuly like the plot above now!"
   ]
  },
  {
   "cell_type": "markdown",
   "metadata": {},
   "source": [
    "## Further exercises\n",
    "\n",
    "- Run the nested sampling with more live points and compare results\n",
    "- Investigate `ultranest.ReactiveNestedSampler` and see how it behaves differently.\n",
    "- Use `healpy.ud_grade` to transform the map to one of lower resolution, and plot the change to the `C_ell` values.\n",
    "- Use camb to generate a CMB power spectrum (take the first TT part), and transform it into a map using healpy.\n"
   ]
  }
 ],
 "metadata": {
  "kernelspec": {
   "display_name": "Python 3",
   "language": "python",
   "name": "python3"
  },
  "language_info": {
   "codemirror_mode": {
    "name": "ipython",
    "version": 3
   },
   "file_extension": ".py",
   "mimetype": "text/x-python",
   "name": "python",
   "nbconvert_exporter": "python",
   "pygments_lexer": "ipython3",
   "version": "3.7.7"
  }
 },
 "nbformat": 4,
 "nbformat_minor": 2
}
